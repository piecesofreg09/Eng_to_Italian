{
  "nbformat": 4,
  "nbformat_minor": 0,
  "metadata": {
    "colab": {
      "name": "Many_to_many.ipynb",
      "version": "0.3.2",
      "provenance": [],
      "collapsed_sections": [],
      "machine_shape": "hm",
      "include_colab_link": true
    },
    "kernelspec": {
      "name": "python3",
      "display_name": "Python 3"
    },
    "accelerator": "GPU"
  },
  "cells": [
    {
      "cell_type": "markdown",
      "metadata": {
        "id": "view-in-github",
        "colab_type": "text"
      },
      "source": [
        "<a href=\"https://colab.research.google.com/github/piecesofreg09/Eng_to_Italian/blob/master/Many_to_many.ipynb\" target=\"_parent\"><img src=\"https://colab.research.google.com/assets/colab-badge.svg\" alt=\"Open In Colab\"/></a>"
      ]
    },
    {
      "cell_type": "markdown",
      "metadata": {
        "id": "LCVJBXUMGSX0",
        "colab_type": "text"
      },
      "source": [
        "Char level\n",
        "\n",
        "Word level"
      ]
    },
    {
      "cell_type": "code",
      "metadata": {
        "id": "DP6SCdgllKof",
        "colab_type": "code",
        "outputId": "faf01283-c10f-4126-ba34-a937f31ee5b1",
        "colab": {
          "base_uri": "https://localhost:8080/",
          "height": 35
        }
      },
      "source": [
        "from google.colab import drive\n",
        "drive.mount('/content/gdrive')"
      ],
      "execution_count": 0,
      "outputs": [
        {
          "output_type": "stream",
          "text": [
            "Drive already mounted at /content/gdrive; to attempt to forcibly remount, call drive.mount(\"/content/gdrive\", force_remount=True).\n"
          ],
          "name": "stdout"
        }
      ]
    },
    {
      "cell_type": "code",
      "metadata": {
        "id": "rdMErsqSlMF4",
        "colab_type": "code",
        "colab": {}
      },
      "source": [
        "root_path = 'gdrive/My Drive/Colab Notebooks/Models/Many2many/'"
      ],
      "execution_count": 0,
      "outputs": []
    },
    {
      "cell_type": "code",
      "metadata": {
        "id": "DGNzaLbUIl4T",
        "colab_type": "code",
        "colab": {}
      },
      "source": [
        "import pandas as pd\n",
        "import numpy as np\n",
        "import keras\n",
        "import random\n",
        "from keras.models import Model\n",
        "from keras.layers import Input, LSTM, Dense\n",
        "from sklearn.model_selection import train_test_split\n",
        "from sklearn.metrics import mean_squared_error\n",
        "from keras.models import load_model\n",
        "\n",
        "from IPython.display import clear_output\n",
        "import matplotlib.pyplot as plt\n",
        "from keras.callbacks import ModelCheckpoint\n",
        "\n",
        "\n",
        "import os\n",
        "import glob\n"
      ],
      "execution_count": 0,
      "outputs": []
    },
    {
      "cell_type": "code",
      "metadata": {
        "id": "78YDQuFzFScV",
        "colab_type": "code",
        "colab": {}
      },
      "source": [
        "url = 'https://raw.githubusercontent.com/piecesofreg09/Eng_to_Italian/master/Data/ita.txt'\n",
        "#url = 'https://raw.githubusercontent.com/piecesofreg09/Eng_to_Italian/master/Data/fra.txt'\n",
        "df0 = pd.read_csv(url, sep='\\t', header=None)\n"
      ],
      "execution_count": 0,
      "outputs": []
    },
    {
      "cell_type": "code",
      "metadata": {
        "id": "nPeYGSx6IpWB",
        "colab_type": "code",
        "outputId": "caf4d0b0-f1bf-4a86-a44e-f856e93db020",
        "colab": {
          "base_uri": "https://localhost:8080/",
          "height": 206
        }
      },
      "source": [
        "df0.head()"
      ],
      "execution_count": 0,
      "outputs": [
        {
          "output_type": "execute_result",
          "data": {
            "text/html": [
              "<div>\n",
              "<style scoped>\n",
              "    .dataframe tbody tr th:only-of-type {\n",
              "        vertical-align: middle;\n",
              "    }\n",
              "\n",
              "    .dataframe tbody tr th {\n",
              "        vertical-align: top;\n",
              "    }\n",
              "\n",
              "    .dataframe thead th {\n",
              "        text-align: right;\n",
              "    }\n",
              "</style>\n",
              "<table border=\"1\" class=\"dataframe\">\n",
              "  <thead>\n",
              "    <tr style=\"text-align: right;\">\n",
              "      <th></th>\n",
              "      <th>0</th>\n",
              "      <th>1</th>\n",
              "    </tr>\n",
              "  </thead>\n",
              "  <tbody>\n",
              "    <tr>\n",
              "      <th>0</th>\n",
              "      <td>Hi.</td>\n",
              "      <td>Ciao!</td>\n",
              "    </tr>\n",
              "    <tr>\n",
              "      <th>1</th>\n",
              "      <td>Run!</td>\n",
              "      <td>Corri!</td>\n",
              "    </tr>\n",
              "    <tr>\n",
              "      <th>2</th>\n",
              "      <td>Run!</td>\n",
              "      <td>Corra!</td>\n",
              "    </tr>\n",
              "    <tr>\n",
              "      <th>3</th>\n",
              "      <td>Run!</td>\n",
              "      <td>Correte!</td>\n",
              "    </tr>\n",
              "    <tr>\n",
              "      <th>4</th>\n",
              "      <td>Who?</td>\n",
              "      <td>Chi?</td>\n",
              "    </tr>\n",
              "  </tbody>\n",
              "</table>\n",
              "</div>"
            ],
            "text/plain": [
              "      0         1\n",
              "0   Hi.     Ciao!\n",
              "1  Run!    Corri!\n",
              "2  Run!    Corra!\n",
              "3  Run!  Correte!\n",
              "4  Who?      Chi?"
            ]
          },
          "metadata": {
            "tags": []
          },
          "execution_count": 155
        }
      ]
    },
    {
      "cell_type": "code",
      "metadata": {
        "id": "12r2VP2xWgiB",
        "colab_type": "code",
        "colab": {}
      },
      "source": [
        " class DataGenerator(keras.utils.Sequence):\n",
        "    'Generates data for Keras while running the program'\n",
        "    def __init__(self, total_rows, vocab_paras, data_en, data_it,\n",
        "                 batch_size=1024, shuffle=True):\n",
        "        '''\n",
        "        Initialization\n",
        "        vocab_paras: the max length of sentences in en and it, \n",
        "                     the number of characters in en and it\n",
        "        data_en, data_it: the input data, english data and italian data are separate\n",
        "        '''\n",
        "        self.total_rows = total_rows\n",
        "        self.sent_max_en, self.vocab_size_en, \\\n",
        "            self.sent_max_it, self.vocab_size_it = vocab_paras\n",
        "        \n",
        "        self.data_en = data_en\n",
        "        self.data_it = data_it\n",
        "        self.batch_size = batch_size\n",
        "        self.shuffle = shuffle\n",
        "        \n",
        "        self.indices = np.arange(self.total_rows)\n",
        "        self.on_epoch_end()\n",
        "\n",
        "    def __len__(self):\n",
        "        'Denotes the number of batches per epoch'\n",
        "        return int(np.floor(self.total_rows / self.batch_size))\n",
        "\n",
        "    def __getitem__(self, index):\n",
        "        'Generate one batch of data'\n",
        "        # Generate indexes of the batch\n",
        "        temp_index = self.indices[index*self.batch_size:(index+1)*self.batch_size]\n",
        "\n",
        "        # Generate data\n",
        "        X, y = self.__data_generation(temp_index)\n",
        "        \n",
        "\n",
        "        return X, y\n",
        "\n",
        "    def on_epoch_end(self):\n",
        "        'Updates indexes after each epoch'\n",
        "        self.indices = np.arange(self.total_rows)\n",
        "        if self.shuffle == True:\n",
        "            np.random.shuffle(self.indices)\n",
        "\n",
        "    def __data_generation(self, temp_index):\n",
        "        'Generates data containing batch_size samples' \n",
        "        # X : (n_samples, *dim, n_channels)\n",
        "        # Initialization\n",
        "        X_1 = np.zeros((self.batch_size, self.sent_max_en, self.vocab_size_en), \n",
        "                       dtype='float32')\n",
        "        X_2 = np.zeros((self.batch_size, self.sent_max_it, self.vocab_size_it),\n",
        "                       dtype='float32')\n",
        "        y_2 = np.zeros((self.batch_size, self.sent_max_it, self.vocab_size_it), \n",
        "                       dtype='float32')\n",
        "        \n",
        "        \n",
        "        # Generate data\n",
        "        for i, idd in enumerate(temp_index):\n",
        "            for j, charr in enumerate(self.data_en[idd]):\n",
        "                X_1[i, j, char_to_ix_en[charr]] = 1.0\n",
        "            for j, charr in enumerate(self.data_it[idd]):\n",
        "                X_2[i, j, char_to_ix_it[charr]] = 1.0\n",
        "                if j > 0:\n",
        "                    y_2[i, j - 1, char_to_ix_it[charr]] = 1.0\n",
        "        \n",
        "        #print(self.data_en[temp_index[1]])\n",
        "        #print(self.data_it[temp_index[1]])\n",
        "        \n",
        "        return [X_1, X_2], y_2"
      ],
      "execution_count": 0,
      "outputs": []
    },
    {
      "cell_type": "code",
      "metadata": {
        "id": "LiD6l7jeWOdG",
        "colab_type": "code",
        "outputId": "8747564d-a49d-481f-b835-6109d013537c",
        "colab": {
          "base_uri": "https://localhost:8080/",
          "height": 206
        }
      },
      "source": [
        "df1 = df0.sample(n=200000)\n",
        "#df1 = df0.loc[:100000]\n",
        "df1.reset_index(inplace=True, drop=True)\n",
        "df1.head()"
      ],
      "execution_count": 0,
      "outputs": [
        {
          "output_type": "execute_result",
          "data": {
            "text/html": [
              "<div>\n",
              "<style scoped>\n",
              "    .dataframe tbody tr th:only-of-type {\n",
              "        vertical-align: middle;\n",
              "    }\n",
              "\n",
              "    .dataframe tbody tr th {\n",
              "        vertical-align: top;\n",
              "    }\n",
              "\n",
              "    .dataframe thead th {\n",
              "        text-align: right;\n",
              "    }\n",
              "</style>\n",
              "<table border=\"1\" class=\"dataframe\">\n",
              "  <thead>\n",
              "    <tr style=\"text-align: right;\">\n",
              "      <th></th>\n",
              "      <th>0</th>\n",
              "      <th>1</th>\n",
              "    </tr>\n",
              "  </thead>\n",
              "  <tbody>\n",
              "    <tr>\n",
              "      <th>0</th>\n",
              "      <td>I didn't want to go, but I needed to.</td>\n",
              "      <td>Io non volevo andare, però dovevo.</td>\n",
              "    </tr>\n",
              "    <tr>\n",
              "      <th>1</th>\n",
              "      <td>Tom had his wallet stolen while he was in Boston.</td>\n",
              "      <td>A Tom hanno rubato il portafoglio mentre era a...</td>\n",
              "    </tr>\n",
              "    <tr>\n",
              "      <th>2</th>\n",
              "      <td>Tom is not good enough.</td>\n",
              "      <td>Tom non è abbastanza bravo.</td>\n",
              "    </tr>\n",
              "    <tr>\n",
              "      <th>3</th>\n",
              "      <td>Take my hand.</td>\n",
              "      <td>Prendete la mia mano.</td>\n",
              "    </tr>\n",
              "    <tr>\n",
              "      <th>4</th>\n",
              "      <td>He struck at me with a stick.</td>\n",
              "      <td>Mi colpì con un bastone.</td>\n",
              "    </tr>\n",
              "  </tbody>\n",
              "</table>\n",
              "</div>"
            ],
            "text/plain": [
              "                                                   0                                                  1\n",
              "0              I didn't want to go, but I needed to.                 Io non volevo andare, però dovevo.\n",
              "1  Tom had his wallet stolen while he was in Boston.  A Tom hanno rubato il portafoglio mentre era a...\n",
              "2                            Tom is not good enough.                        Tom non è abbastanza bravo.\n",
              "3                                      Take my hand.                              Prendete la mia mano.\n",
              "4                      He struck at me with a stick.                           Mi colpì con un bastone."
            ]
          },
          "metadata": {
            "tags": []
          },
          "execution_count": 180
        }
      ]
    },
    {
      "cell_type": "code",
      "metadata": {
        "id": "PCnxZW-gI0_Q",
        "colab_type": "code",
        "outputId": "44a44108-95f7-4682-c3ee-de5a74c233db",
        "colab": {
          "base_uri": "https://localhost:8080/",
          "height": 54
        }
      },
      "source": [
        "data_en = list(map(lambda x: x, list(df1[0])))\n",
        "chunks_en = ''.join(list(map(str, data_en)))\n",
        "sent_max_en = np.max([len(s) for s in data_en])\n",
        "chars_en = list(set(chunks_en))\n",
        "data_size_en, vocab_size_en = len(data_en), len(chars_en)\n",
        "print('There are %d total sentences and %d unique characters in English.'\n",
        "      % (data_size_en, vocab_size_en))\n",
        "print('Max sentence length is %d ' % sent_max_en)"
      ],
      "execution_count": 0,
      "outputs": [
        {
          "output_type": "stream",
          "text": [
            "There are 200000 total sentences and 87 unique characters in English.\n",
            "Max sentence length is 262 \n"
          ],
          "name": "stdout"
        }
      ]
    },
    {
      "cell_type": "code",
      "metadata": {
        "id": "SihbFw-rM1a_",
        "colab_type": "code",
        "outputId": "27264eeb-5c37-4d9a-e3aa-d98995d9aa83",
        "colab": {
          "base_uri": "https://localhost:8080/",
          "height": 54
        }
      },
      "source": [
        "data_it = list(map(lambda x: '\\t' + x + '\\n', list(df1[1])))\n",
        "chunks_it = ''.join(list(map(str, data_it)))\n",
        "sent_max_it = np.max([len(s) for s in data_it])\n",
        "chars_it = list(set(chunks_it))\n",
        "data_size_it, vocab_size_it = len(data_it), len(chars_it)\n",
        "print('There are %d total sentences and %d unique characters in Italian.'\n",
        "      % (data_size_it, vocab_size_it))\n",
        "print('Max sentence length is %d ' % sent_max_it)"
      ],
      "execution_count": 0,
      "outputs": [
        {
          "output_type": "stream",
          "text": [
            "There are 200000 total sentences and 95 unique characters in Italian.\n",
            "Max sentence length is 305 \n"
          ],
          "name": "stdout"
        }
      ]
    },
    {
      "cell_type": "code",
      "metadata": {
        "id": "RuuWeIW2ZldA",
        "colab_type": "code",
        "outputId": "0eaadc86-6abc-4773-e4ca-5d7739b950ee",
        "colab": {
          "base_uri": "https://localhost:8080/",
          "height": 35
        }
      },
      "source": [
        "sp = 100\n",
        "data_en[sp] + data_it[sp]"
      ],
      "execution_count": 0,
      "outputs": [
        {
          "output_type": "execute_result",
          "data": {
            "text/plain": [
              "'Tom just got arrested.\\tTom è appena stato arrestato.\\n'"
            ]
          },
          "metadata": {
            "tags": []
          },
          "execution_count": 183
        }
      ]
    },
    {
      "cell_type": "code",
      "metadata": {
        "id": "aEURSd_6NzAm",
        "colab_type": "code",
        "colab": {}
      },
      "source": [
        "char_to_ix_en = { ch:i for i,ch in enumerate(sorted(chars_en)) }\n",
        "ix_to_char_en = { i:ch for i,ch in enumerate(sorted(chars_en)) }\n",
        "char_to_ix_it = { ch:i for i,ch in enumerate(sorted(chars_it)) }\n",
        "ix_to_char_it = { i:ch for i,ch in enumerate(sorted(chars_it)) }\n"
      ],
      "execution_count": 0,
      "outputs": []
    },
    {
      "cell_type": "code",
      "metadata": {
        "id": "l6Xjm9zlP2B5",
        "colab_type": "code",
        "colab": {}
      },
      "source": [
        "\n",
        "latent_dim = 256\n",
        "\n",
        "# Define an input sequence and process it.\n",
        "encoder_inputs = Input(shape=(None, vocab_size_en))\n",
        "encoder = LSTM(latent_dim, return_state=True)\n",
        "encoder_outputs, state_h, state_c = encoder(encoder_inputs)\n",
        "# We discard `encoder_outputs` and only keep the states.\n",
        "encoder_states = [state_h, state_c]\n",
        "\n",
        "# Set up the decoder, using `encoder_states` as initial state.\n",
        "decoder_inputs = Input(shape=(None, vocab_size_it))\n",
        "# We set up our decoder to return full output sequences,\n",
        "# and to return internal states as well. We don't use the \n",
        "# return states in the training model, but we will use them in inference.\n",
        "decoder_lstm = LSTM(latent_dim, return_sequences=True, return_state=True)\n",
        "decoder_outputs, _, _ = decoder_lstm(decoder_inputs,\n",
        "                                     initial_state=encoder_states)\n",
        "decoder_dense = Dense(vocab_size_it, activation='softmax')\n",
        "decoder_outputs = decoder_dense(decoder_outputs)\n",
        "\n",
        "# Define the model that will turn\n",
        "# `encoder_input_data` & `decoder_input_data` into `decoder_target_data`\n",
        "model = Model([encoder_inputs, decoder_inputs], decoder_outputs)"
      ],
      "execution_count": 0,
      "outputs": []
    },
    {
      "cell_type": "code",
      "metadata": {
        "id": "BE6cUFBdh0FG",
        "colab_type": "code",
        "colab": {}
      },
      "source": [
        "en_train, en_valid, it_train, it_valid = train_test_split(\n",
        "        data_en, data_it, test_size=0.10, random_state=123)"
      ],
      "execution_count": 0,
      "outputs": []
    },
    {
      "cell_type": "code",
      "metadata": {
        "id": "x0W_guVih5Q_",
        "colab_type": "code",
        "outputId": "25eca61b-e9cd-410c-f08e-622cb7ae68cf",
        "colab": {
          "base_uri": "https://localhost:8080/",
          "height": 182
        }
      },
      "source": [
        "np.array(list(zip(en_train[0:10:2] ,it_train[0:10:2])))\n"
      ],
      "execution_count": 0,
      "outputs": [
        {
          "output_type": "execute_result",
          "data": {
            "text/plain": [
              "array([[\"I wasn't asking for your opinion.\",\n",
              "        '\\tNon stavo chiedendo la tua opinione.\\n'],\n",
              "       ['He likes chicken nuggets.',\n",
              "        '\\tGli piacciono le crocchette di pollo.\\n'],\n",
              "       ['This box is so large that it cannot go into my bag.',\n",
              "        '\\tQuesta scatola è così grande che non riesce ad entrare nella mia borsa.\\n'],\n",
              "       [\"Maybe it's best not to add pepper.\",\n",
              "        '\\tForse è meglio non aggiungere pepe.\\n'],\n",
              "       [\"You're so paranoid.\", '\\tÈ così paranoica.\\n']], dtype='<U73')"
            ]
          },
          "metadata": {
            "tags": []
          },
          "execution_count": 187
        }
      ]
    },
    {
      "cell_type": "code",
      "metadata": {
        "id": "Dgcl92nPswXr",
        "colab_type": "code",
        "colab": {}
      },
      "source": [
        "# plot figure lof losses\n",
        "class PlotLosses(keras.callbacks.Callback):\n",
        "    def on_train_begin(self, logs={}):\n",
        "        self.i = 0\n",
        "        self.x = []\n",
        "        self.losses = []\n",
        "        self.val_losses = []\n",
        "        \n",
        "        self.fig = plt.figure()\n",
        "        \n",
        "        self.logs = []\n",
        "\n",
        "    def on_epoch_end(self, epoch, logs={}):\n",
        "        \n",
        "        print(logs)\n",
        "        self.logs.append(logs)\n",
        "        self.x.append(self.i)\n",
        "        self.losses.append(logs.get('loss'))\n",
        "        self.val_losses.append(logs.get('val_loss'))\n",
        "        self.i += 1\n",
        "        \n",
        "        clear_output(wait=True)\n",
        "        plt.plot(self.x, self.losses, label=\"loss\")\n",
        "        plt.plot(self.x, self.val_losses, label=\"val_loss\")\n",
        "        plt.legend()\n",
        "        plt.show();\n",
        "        \n",
        "plot_losses = PlotLosses()"
      ],
      "execution_count": 0,
      "outputs": []
    },
    {
      "cell_type": "code",
      "metadata": {
        "id": "RAlfXw7Pqato",
        "colab_type": "code",
        "colab": {}
      },
      "source": [
        "def get_init_epoch(path):\n",
        "    x = path.find('weights')\n",
        "    print(path)\n",
        "    return int(path[x+8:x+11])"
      ],
      "execution_count": 0,
      "outputs": []
    },
    {
      "cell_type": "code",
      "metadata": {
        "id": "-s6usCObK7Rs",
        "colab_type": "code",
        "outputId": "2505cba5-4a1d-42da-d15d-9c7d72c8fb88",
        "colab": {
          "base_uri": "https://localhost:8080/",
          "height": 1000
        }
      },
      "source": [
        "vocab_paras = [sent_max_en, vocab_size_en, \n",
        "               sent_max_it, vocab_size_it]\n",
        "training_generator = DataGenerator(len(en_train), vocab_paras,\n",
        "                                   en_train, it_train, \n",
        "                                   batch_size=512,shuffle=True)\n",
        "validation_generator = DataGenerator(len(en_valid), vocab_paras,\n",
        "                                     en_valid, it_valid, \n",
        "                                     batch_size=64, shuffle=True)\n",
        "# training\n",
        "check_path = 'gdrive/My Drive/Colab Notebooks/Models/Many2many/checkpoint/'\n",
        "checkpoint = ModelCheckpoint(check_path + 'weights.{epoch:03d}-{val_loss:.6f}.hdf5',\n",
        "                            monitor='val_loss')\n",
        "\n",
        "if len(os.listdir(check_path)) != 0:\n",
        "    list_of_files = glob.glob(check_path + '*') # * means all if need specific format then *.csv\n",
        "    latest_file = max(list_of_files, key=os.path.getctime)\n",
        "    # Load model:\n",
        "    model = load_model(latest_file)\n",
        "    # Finding the epoch index from which we are resuming\n",
        "    initial_epoch = get_init_epoch(latest_file)\n",
        "else:\n",
        "    model = Model([encoder_inputs, decoder_inputs], decoder_outputs)\n",
        "    initial_epoch = 0\n",
        "model.compile(optimizer='rmsprop', loss='categorical_crossentropy')\n",
        "model.fit_generator(generator=training_generator,\n",
        "                    validation_data=validation_generator,\n",
        "                    use_multiprocessing=True,\n",
        "                    callbacks=[plot_losses, checkpoint],\n",
        "                    epochs=100, \n",
        "                    initial_epoch=initial_epoch)"
      ],
      "execution_count": 0,
      "outputs": [
        {
          "output_type": "display_data",
          "data": {
            "image/png": "[encoded data removed]",
            "text/plain": [
              "<Figure size 432x288 with 1 Axes>"
            ]
          },
          "metadata": {
            "tags": []
          }
        },
        {
          "output_type": "stream",
          "text": [
            "Epoch 13/100\n",
            " 42/351 [==>...........................] - ETA: 7:20 - loss: 0.0916"
          ],
          "name": "stdout"
        },
        {
          "output_type": "stream",
          "text": [
            "Process ForkPoolWorker-262:\n",
            "Process ForkPoolWorker-263:\n",
            "Traceback (most recent call last):\n",
            "Traceback (most recent call last):\n",
            "  File \"/usr/lib/python3.6/multiprocessing/process.py\", line 258, in _bootstrap\n",
            "    self.run()\n",
            "  File \"/usr/lib/python3.6/multiprocessing/process.py\", line 258, in _bootstrap\n",
            "    self.run()\n",
            "  File \"/usr/lib/python3.6/multiprocessing/process.py\", line 93, in run\n",
            "    self._target(*self._args, **self._kwargs)\n",
            "  File \"/usr/lib/python3.6/multiprocessing/pool.py\", line 108, in worker\n",
            "    task = get()\n",
            "  File \"/usr/lib/python3.6/multiprocessing/process.py\", line 93, in run\n",
            "    self._target(*self._args, **self._kwargs)\n",
            "  File \"/usr/lib/python3.6/multiprocessing/queues.py\", line 335, in get\n",
            "    res = self._reader.recv_bytes()\n",
            "  File \"/usr/lib/python3.6/multiprocessing/pool.py\", line 108, in worker\n",
            "    task = get()\n",
            "  File \"/usr/lib/python3.6/multiprocessing/connection.py\", line 216, in recv_bytes\n",
            "    buf = self._recv_bytes(maxlength)\n",
            "  File \"/usr/lib/python3.6/multiprocessing/connection.py\", line 407, in _recv_bytes\n",
            "    buf = self._recv(4)\n",
            "  File \"/usr/lib/python3.6/multiprocessing/connection.py\", line 379, in _recv\n",
            "    chunk = read(handle, remaining)\n",
            "  File \"/usr/lib/python3.6/multiprocessing/queues.py\", line 335, in get\n",
            "    res = self._reader.recv_bytes()\n",
            "KeyboardInterrupt\n",
            "  File \"/usr/lib/python3.6/multiprocessing/connection.py\", line 216, in recv_bytes\n",
            "    buf = self._recv_bytes(maxlength)\n",
            "  File \"/usr/lib/python3.6/multiprocessing/connection.py\", line 407, in _recv_bytes\n",
            "    buf = self._recv(4)\n",
            "  File \"/usr/lib/python3.6/multiprocessing/connection.py\", line 379, in _recv\n",
            "    chunk = read(handle, remaining)\n",
            "KeyboardInterrupt\n"
          ],
          "name": "stderr"
        },
        {
          "output_type": "error",
          "ename": "KeyboardInterrupt",
          "evalue": "ignored",
          "traceback": [
            "\u001b[0;31m---------------------------------------------------------------------------\u001b[0m",
            "\u001b[0;31mKeyboardInterrupt\u001b[0m                         Traceback (most recent call last)",
            "\u001b[0;32m<ipython-input-190-8ac419107e96>\u001b[0m in \u001b[0;36m<module>\u001b[0;34m()\u001b[0m\n\u001b[1;32m     28\u001b[0m                     \u001b[0mcallbacks\u001b[0m\u001b[0;34m=\u001b[0m\u001b[0;34m[\u001b[0m\u001b[0mplot_losses\u001b[0m\u001b[0;34m,\u001b[0m \u001b[0mcheckpoint\u001b[0m\u001b[0;34m]\u001b[0m\u001b[0;34m,\u001b[0m\u001b[0;34m\u001b[0m\u001b[0;34m\u001b[0m\u001b[0m\n\u001b[1;32m     29\u001b[0m                     \u001b[0mepochs\u001b[0m\u001b[0;34m=\u001b[0m\u001b[0;36m100\u001b[0m\u001b[0;34m,\u001b[0m\u001b[0;34m\u001b[0m\u001b[0;34m\u001b[0m\u001b[0m\n\u001b[0;32m---> 30\u001b[0;31m                     initial_epoch=initial_epoch)\n\u001b[0m",
            "\u001b[0;32m/usr/local/lib/python3.6/dist-packages/keras/legacy/interfaces.py\u001b[0m in \u001b[0;36mwrapper\u001b[0;34m(*args, **kwargs)\u001b[0m\n\u001b[1;32m     89\u001b[0m                 warnings.warn('Update your `' + object_name + '` call to the ' +\n\u001b[1;32m     90\u001b[0m                               'Keras 2 API: ' + signature, stacklevel=2)\n\u001b[0;32m---> 91\u001b[0;31m             \u001b[0;32mreturn\u001b[0m \u001b[0mfunc\u001b[0m\u001b[0;34m(\u001b[0m\u001b[0;34m*\u001b[0m\u001b[0margs\u001b[0m\u001b[0;34m,\u001b[0m \u001b[0;34m**\u001b[0m\u001b[0mkwargs\u001b[0m\u001b[0;34m)\u001b[0m\u001b[0;34m\u001b[0m\u001b[0;34m\u001b[0m\u001b[0m\n\u001b[0m\u001b[1;32m     92\u001b[0m         \u001b[0mwrapper\u001b[0m\u001b[0;34m.\u001b[0m\u001b[0m_original_function\u001b[0m \u001b[0;34m=\u001b[0m \u001b[0mfunc\u001b[0m\u001b[0;34m\u001b[0m\u001b[0;34m\u001b[0m\u001b[0m\n\u001b[1;32m     93\u001b[0m         \u001b[0;32mreturn\u001b[0m \u001b[0mwrapper\u001b[0m\u001b[0;34m\u001b[0m\u001b[0;34m\u001b[0m\u001b[0m\n",
            "\u001b[0;32m/usr/local/lib/python3.6/dist-packages/keras/engine/training.py\u001b[0m in \u001b[0;36mfit_generator\u001b[0;34m(self, generator, steps_per_epoch, epochs, verbose, callbacks, validation_data, validation_steps, validation_freq, class_weight, max_queue_size, workers, use_multiprocessing, shuffle, initial_epoch)\u001b[0m\n\u001b[1;32m   1656\u001b[0m             \u001b[0muse_multiprocessing\u001b[0m\u001b[0;34m=\u001b[0m\u001b[0muse_multiprocessing\u001b[0m\u001b[0;34m,\u001b[0m\u001b[0;34m\u001b[0m\u001b[0;34m\u001b[0m\u001b[0m\n\u001b[1;32m   1657\u001b[0m             \u001b[0mshuffle\u001b[0m\u001b[0;34m=\u001b[0m\u001b[0mshuffle\u001b[0m\u001b[0;34m,\u001b[0m\u001b[0;34m\u001b[0m\u001b[0;34m\u001b[0m\u001b[0m\n\u001b[0;32m-> 1658\u001b[0;31m             initial_epoch=initial_epoch)\n\u001b[0m\u001b[1;32m   1659\u001b[0m \u001b[0;34m\u001b[0m\u001b[0m\n\u001b[1;32m   1660\u001b[0m     \u001b[0;34m@\u001b[0m\u001b[0minterfaces\u001b[0m\u001b[0;34m.\u001b[0m\u001b[0mlegacy_generator_methods_support\u001b[0m\u001b[0;34m\u001b[0m\u001b[0;34m\u001b[0m\u001b[0m\n",
            "\u001b[0;32m/usr/local/lib/python3.6/dist-packages/keras/engine/training_generator.py\u001b[0m in \u001b[0;36mfit_generator\u001b[0;34m(model, generator, steps_per_epoch, epochs, verbose, callbacks, validation_data, validation_steps, validation_freq, class_weight, max_queue_size, workers, use_multiprocessing, shuffle, initial_epoch)\u001b[0m\n\u001b[1;32m    213\u001b[0m                 outs = model.train_on_batch(x, y,\n\u001b[1;32m    214\u001b[0m                                             \u001b[0msample_weight\u001b[0m\u001b[0;34m=\u001b[0m\u001b[0msample_weight\u001b[0m\u001b[0;34m,\u001b[0m\u001b[0;34m\u001b[0m\u001b[0;34m\u001b[0m\u001b[0m\n\u001b[0;32m--> 215\u001b[0;31m                                             class_weight=class_weight)\n\u001b[0m\u001b[1;32m    216\u001b[0m \u001b[0;34m\u001b[0m\u001b[0m\n\u001b[1;32m    217\u001b[0m                 \u001b[0mouts\u001b[0m \u001b[0;34m=\u001b[0m \u001b[0mto_list\u001b[0m\u001b[0;34m(\u001b[0m\u001b[0mouts\u001b[0m\u001b[0;34m)\u001b[0m\u001b[0;34m\u001b[0m\u001b[0;34m\u001b[0m\u001b[0m\n",
            "\u001b[0;32m/usr/local/lib/python3.6/dist-packages/keras/engine/training.py\u001b[0m in \u001b[0;36mtrain_on_batch\u001b[0;34m(self, x, y, sample_weight, class_weight)\u001b[0m\n\u001b[1;32m   1447\u001b[0m             \u001b[0mins\u001b[0m \u001b[0;34m=\u001b[0m \u001b[0mx\u001b[0m \u001b[0;34m+\u001b[0m \u001b[0my\u001b[0m \u001b[0;34m+\u001b[0m \u001b[0msample_weights\u001b[0m\u001b[0;34m\u001b[0m\u001b[0;34m\u001b[0m\u001b[0m\n\u001b[1;32m   1448\u001b[0m         \u001b[0mself\u001b[0m\u001b[0;34m.\u001b[0m\u001b[0m_make_train_function\u001b[0m\u001b[0;34m(\u001b[0m\u001b[0;34m)\u001b[0m\u001b[0;34m\u001b[0m\u001b[0;34m\u001b[0m\u001b[0m\n\u001b[0;32m-> 1449\u001b[0;31m         \u001b[0moutputs\u001b[0m \u001b[0;34m=\u001b[0m \u001b[0mself\u001b[0m\u001b[0;34m.\u001b[0m\u001b[0mtrain_function\u001b[0m\u001b[0;34m(\u001b[0m\u001b[0mins\u001b[0m\u001b[0;34m)\u001b[0m\u001b[0;34m\u001b[0m\u001b[0;34m\u001b[0m\u001b[0m\n\u001b[0m\u001b[1;32m   1450\u001b[0m         \u001b[0;32mreturn\u001b[0m \u001b[0munpack_singleton\u001b[0m\u001b[0;34m(\u001b[0m\u001b[0moutputs\u001b[0m\u001b[0;34m)\u001b[0m\u001b[0;34m\u001b[0m\u001b[0;34m\u001b[0m\u001b[0m\n\u001b[1;32m   1451\u001b[0m \u001b[0;34m\u001b[0m\u001b[0m\n",
            "\u001b[0;32m/usr/local/lib/python3.6/dist-packages/keras/backend/tensorflow_backend.py\u001b[0m in \u001b[0;36m__call__\u001b[0;34m(self, inputs)\u001b[0m\n\u001b[1;32m   2977\u001b[0m                     \u001b[0;32mreturn\u001b[0m \u001b[0mself\u001b[0m\u001b[0;34m.\u001b[0m\u001b[0m_legacy_call\u001b[0m\u001b[0;34m(\u001b[0m\u001b[0minputs\u001b[0m\u001b[0;34m)\u001b[0m\u001b[0;34m\u001b[0m\u001b[0;34m\u001b[0m\u001b[0m\n\u001b[1;32m   2978\u001b[0m \u001b[0;34m\u001b[0m\u001b[0m\n\u001b[0;32m-> 2979\u001b[0;31m             \u001b[0;32mreturn\u001b[0m \u001b[0mself\u001b[0m\u001b[0;34m.\u001b[0m\u001b[0m_call\u001b[0m\u001b[0;34m(\u001b[0m\u001b[0minputs\u001b[0m\u001b[0;34m)\u001b[0m\u001b[0;34m\u001b[0m\u001b[0;34m\u001b[0m\u001b[0m\n\u001b[0m\u001b[1;32m   2980\u001b[0m         \u001b[0;32melse\u001b[0m\u001b[0;34m:\u001b[0m\u001b[0;34m\u001b[0m\u001b[0;34m\u001b[0m\u001b[0m\n\u001b[1;32m   2981\u001b[0m             \u001b[0;32mif\u001b[0m \u001b[0mpy_any\u001b[0m\u001b[0;34m(\u001b[0m\u001b[0mis_tensor\u001b[0m\u001b[0;34m(\u001b[0m\u001b[0mx\u001b[0m\u001b[0;34m)\u001b[0m \u001b[0;32mfor\u001b[0m \u001b[0mx\u001b[0m \u001b[0;32min\u001b[0m \u001b[0minputs\u001b[0m\u001b[0;34m)\u001b[0m\u001b[0;34m:\u001b[0m\u001b[0;34m\u001b[0m\u001b[0;34m\u001b[0m\u001b[0m\n",
            "\u001b[0;32m/usr/local/lib/python3.6/dist-packages/keras/backend/tensorflow_backend.py\u001b[0m in \u001b[0;36m_call\u001b[0;34m(self, inputs)\u001b[0m\n\u001b[1;32m   2935\u001b[0m             \u001b[0mfetched\u001b[0m \u001b[0;34m=\u001b[0m \u001b[0mself\u001b[0m\u001b[0;34m.\u001b[0m\u001b[0m_callable_fn\u001b[0m\u001b[0;34m(\u001b[0m\u001b[0;34m*\u001b[0m\u001b[0marray_vals\u001b[0m\u001b[0;34m,\u001b[0m \u001b[0mrun_metadata\u001b[0m\u001b[0;34m=\u001b[0m\u001b[0mself\u001b[0m\u001b[0;34m.\u001b[0m\u001b[0mrun_metadata\u001b[0m\u001b[0;34m)\u001b[0m\u001b[0;34m\u001b[0m\u001b[0;34m\u001b[0m\u001b[0m\n\u001b[1;32m   2936\u001b[0m         \u001b[0;32melse\u001b[0m\u001b[0;34m:\u001b[0m\u001b[0;34m\u001b[0m\u001b[0;34m\u001b[0m\u001b[0m\n\u001b[0;32m-> 2937\u001b[0;31m             \u001b[0mfetched\u001b[0m \u001b[0;34m=\u001b[0m \u001b[0mself\u001b[0m\u001b[0;34m.\u001b[0m\u001b[0m_callable_fn\u001b[0m\u001b[0;34m(\u001b[0m\u001b[0;34m*\u001b[0m\u001b[0marray_vals\u001b[0m\u001b[0;34m)\u001b[0m\u001b[0;34m\u001b[0m\u001b[0;34m\u001b[0m\u001b[0m\n\u001b[0m\u001b[1;32m   2938\u001b[0m         \u001b[0;32mreturn\u001b[0m \u001b[0mfetched\u001b[0m\u001b[0;34m[\u001b[0m\u001b[0;34m:\u001b[0m\u001b[0mlen\u001b[0m\u001b[0;34m(\u001b[0m\u001b[0mself\u001b[0m\u001b[0;34m.\u001b[0m\u001b[0moutputs\u001b[0m\u001b[0;34m)\u001b[0m\u001b[0;34m]\u001b[0m\u001b[0;34m\u001b[0m\u001b[0;34m\u001b[0m\u001b[0m\n\u001b[1;32m   2939\u001b[0m \u001b[0;34m\u001b[0m\u001b[0m\n",
            "\u001b[0;32m/usr/local/lib/python3.6/dist-packages/tensorflow/python/client/session.py\u001b[0m in \u001b[0;36m__call__\u001b[0;34m(self, *args, **kwargs)\u001b[0m\n\u001b[1;32m   1456\u001b[0m         ret = tf_session.TF_SessionRunCallable(self._session._session,\n\u001b[1;32m   1457\u001b[0m                                                \u001b[0mself\u001b[0m\u001b[0;34m.\u001b[0m\u001b[0m_handle\u001b[0m\u001b[0;34m,\u001b[0m \u001b[0margs\u001b[0m\u001b[0;34m,\u001b[0m\u001b[0;34m\u001b[0m\u001b[0;34m\u001b[0m\u001b[0m\n\u001b[0;32m-> 1458\u001b[0;31m                                                run_metadata_ptr)\n\u001b[0m\u001b[1;32m   1459\u001b[0m         \u001b[0;32mif\u001b[0m \u001b[0mrun_metadata\u001b[0m\u001b[0;34m:\u001b[0m\u001b[0;34m\u001b[0m\u001b[0;34m\u001b[0m\u001b[0m\n\u001b[1;32m   1460\u001b[0m           \u001b[0mproto_data\u001b[0m \u001b[0;34m=\u001b[0m \u001b[0mtf_session\u001b[0m\u001b[0;34m.\u001b[0m\u001b[0mTF_GetBuffer\u001b[0m\u001b[0;34m(\u001b[0m\u001b[0mrun_metadata_ptr\u001b[0m\u001b[0;34m)\u001b[0m\u001b[0;34m\u001b[0m\u001b[0;34m\u001b[0m\u001b[0m\n",
            "\u001b[0;31mKeyboardInterrupt\u001b[0m: "
          ]
        }
      ]
    },
    {
      "cell_type": "markdown",
      "metadata": {
        "id": "YE66d51FvZmS",
        "colab_type": "text"
      },
      "source": [
        "It can be seen from the above figure, validation loss is not bad. However if we sample the sentences it's not good."
      ]
    },
    {
      "cell_type": "code",
      "metadata": {
        "id": "H-cHjiYp8akx",
        "colab_type": "code",
        "colab": {}
      },
      "source": [
        "model.save(root_path + 's2s.h5')"
      ],
      "execution_count": 0,
      "outputs": []
    },
    {
      "cell_type": "code",
      "metadata": {
        "id": "aIjqf_XQ6F5r",
        "colab_type": "code",
        "colab": {}
      },
      "source": [
        "# encoder model is separated from the complex model\n",
        "encoder_model = Model(encoder_inputs, encoder_states)\n",
        "\n",
        "\n",
        "# decoder model is also just LSTM + Dense\n",
        "decoder_state_input_h = Input(shape=(latent_dim,))\n",
        "decoder_state_input_c = Input(shape=(latent_dim,))\n",
        "decoder_states_inputs = [decoder_state_input_h, decoder_state_input_c]\n",
        "decoder_outputs, state_h, state_c = decoder_lstm(\n",
        "    decoder_inputs, initial_state=decoder_states_inputs)\n",
        "\n",
        "decoder_states = [state_h, state_c]\n",
        "decoder_outputs = decoder_dense(decoder_outputs)\n",
        "\n",
        "decoder_model = Model(\n",
        "    [decoder_inputs] + decoder_states_inputs,\n",
        "    [decoder_outputs] + decoder_states)"
      ],
      "execution_count": 0,
      "outputs": []
    },
    {
      "cell_type": "code",
      "metadata": {
        "id": "-NKM2L2279jk",
        "colab_type": "code",
        "colab": {}
      },
      "source": [
        "def decode_sequence(input_seq):\n",
        "    # Encode the input as state vectors.\n",
        "    states_value = encoder_model.predict(input_seq)\n",
        "\n",
        "    # Generate empty target sequence of length 1.\n",
        "    target_seq = np.zeros((1, 1, vocab_size_it))\n",
        "    # Populate the first character of target sequence with the start character.\n",
        "    target_seq[0, 0, char_to_ix_it['\\t']] = 1.\n",
        "\n",
        "    # Sampling loop for a batch of sequences\n",
        "    # (to simplify, here we assume a batch of size 1).\n",
        "    stop_condition = False\n",
        "    decoded_sentence = ''\n",
        "    while not stop_condition:\n",
        "        output_tokens, h, c = decoder_model.predict(\n",
        "            [target_seq] + states_value)\n",
        "\n",
        "        # Sample a token\n",
        "        sampled_token_index = np.argmax(output_tokens[0, -1, :])\n",
        "        sampled_char = ix_to_char_it[sampled_token_index]\n",
        "        decoded_sentence += sampled_char\n",
        "\n",
        "        # Exit condition: either hit max length\n",
        "        # or find stop character.\n",
        "        if (sampled_char == '\\n' or\n",
        "           len(decoded_sentence) > sent_max_it):\n",
        "            stop_condition = True\n",
        "\n",
        "        # Update the target sequence (of length 1).\n",
        "        target_seq = np.zeros((1, 1, vocab_size_it))\n",
        "        target_seq[0, 0, sampled_token_index] = 1.\n",
        "\n",
        "        # Update states\n",
        "        states_value = [h, c]\n",
        "\n",
        "    return decoded_sentence"
      ],
      "execution_count": 0,
      "outputs": []
    },
    {
      "cell_type": "code",
      "metadata": {
        "id": "zFMcliawgb5S",
        "colab_type": "code",
        "outputId": "321580cf-2c98-45ad-f8fa-9a6fe1ebaa84",
        "colab": {
          "base_uri": "https://localhost:8080/",
          "height": 1000
        }
      },
      "source": [
        "indices_test = np.arange(df1.shape[0])\n",
        "indices_test_30 = indices_test[10:300:10]\n",
        "\n",
        "X_1_test = np.zeros((len(indices_test_30), sent_max_en, vocab_size_en))\n",
        "\n",
        "# Using training data to check the result\n",
        "for i, idd in enumerate(indices_test_30):\n",
        "    for j, charr in enumerate(data_en[idd]):\n",
        "        X_1_test[i, j, char_to_ix_en[charr]] = 1\n",
        "    \n",
        "for seq_index in range(10):\n",
        "    # Take one sequence (part of the training set)\n",
        "    # for trying out decoding.\n",
        "    input_seq = X_1_test[seq_index: seq_index + 1]\n",
        "    print(input_seq.shape)\n",
        "    decoded_sentence = decode_sequence(input_seq)\n",
        "    print('-')\n",
        "    print('Input sentence: ', data_en[seq_index])\n",
        "    print('What it should be: ', data_it[seq_index][:-1])\n",
        "    print('Decoded sentence: ', decoded_sentence)"
      ],
      "execution_count": 0,
      "outputs": [
        {
          "output_type": "stream",
          "text": [
            "(1, 262, 87)\n",
            "-\n",
            "Input sentence:  I didn't want to go, but I needed to.\n",
            "What it should be:  \tIo non volevo andare, però dovevo.\n",
            "Decoded sentence:  Si è andato a casa.\n",
            "\n",
            "(1, 262, 87)\n",
            "-\n",
            "Input sentence:  Tom had his wallet stolen while he was in Boston.\n",
            "What it should be:  \tA Tom hanno rubato il portafoglio mentre era a Boston.\n",
            "Decoded sentence:  Tom ha comprato un conto di Mary.\n",
            "\n",
            "(1, 262, 87)\n",
            "-\n",
            "Input sentence:  Tom is not good enough.\n",
            "What it should be:  \tTom non è abbastanza bravo.\n",
            "Decoded sentence:  Tom è in casa.\n",
            "\n",
            "(1, 262, 87)\n",
            "-\n",
            "Input sentence:  Take my hand.\n",
            "What it should be:  \tPrendete la mia mano.\n",
            "Decoded sentence:  Tom è un po' stanco.\n",
            "\n",
            "(1, 262, 87)\n",
            "-\n",
            "Input sentence:  He struck at me with a stick.\n",
            "What it should be:  \tMi colpì con un bastone.\n",
            "Decoded sentence:  Non sono stato a Boston.\n",
            "\n",
            "(1, 262, 87)\n",
            "-\n",
            "Input sentence:  You look surprised.\n",
            "What it should be:  \tSembrate sorprese.\n",
            "Decoded sentence:  Tom ha detto che non lo farà da sola.\n",
            "\n",
            "(1, 262, 87)\n",
            "-\n",
            "Input sentence:  Tom buttered his toast.\n",
            "What it should be:  \tTom ha imburrato il suo toast.\n",
            "Decoded sentence:  Io ho un po' di tempo a casa.\n",
            "\n",
            "(1, 262, 87)\n",
            "-\n",
            "Input sentence:  I respect everybody's opinion.\n",
            "What it should be:  \tIo rispetto l'opinione di tutti.\n",
            "Decoded sentence:  Io ho comprato un contro di Tom e Mary solamente un po' di tempo per tutto il giorno di cosa.\n",
            "\n",
            "(1, 262, 87)\n",
            "-\n",
            "Input sentence:  Let's talk about your career.\n",
            "What it should be:  \tParliamo della sua carriera.\n",
            "Decoded sentence:  Tom non è ancora arrabbiato con Mary.\n",
            "\n",
            "(1, 262, 87)\n",
            "-\n",
            "Input sentence:  Shouldn't you be at home with your mother?\n",
            "What it should be:  \tNon dovresti essere a casa con tua madre?\n",
            "Decoded sentence:  Tom ha comprato un conto di Mary.\n",
            "\n"
          ],
          "name": "stdout"
        }
      ]
    },
    {
      "cell_type": "code",
      "metadata": {
        "id": "MyOTP-rH_j75",
        "colab_type": "code",
        "outputId": "8ca29cf0-2114-475e-be28-3ca54a47b172",
        "colab": {
          "base_uri": "https://localhost:8080/",
          "height": 935
        }
      },
      "source": [
        "indices_test = np.arange(df0.shape[0])\n",
        "indices_test_30 = indices_test[100:300:10]\n",
        "\n",
        "X_1_test = np.zeros((len(indices_test_30), sent_max_en, vocab_size_en))\n",
        "\n",
        "\n",
        "data_en_test = list(map(lambda x: x.lower(), list(df0[0])))\n",
        "data_it_test = list(map(lambda x: x.lower(), list(df0[1])))\n",
        "# Generate\n",
        "for i, idd in enumerate(indices_test_30):\n",
        "    for j, charr in enumerate(data_en_test[idd]):\n",
        "        X_1_test[i, j, char_to_ix_en[charr]] = 1\n",
        "    \n",
        "for seq_index in range(10):\n",
        "    # Take one sequence (part of the training set)\n",
        "    # for trying out decoding.\n",
        "    input_seq = X_1_test[seq_index: seq_index + 1]\n",
        "    decoded_sentence = decode_sequence(input_seq)\n",
        "    print('-')\n",
        "    print('Input sentence: ', data_en[seq_index])\n",
        "    print('What it should be: ', data_it[seq_index][:-1])\n",
        "    print('Decoded sentence: ', decoded_sentence)"
      ],
      "execution_count": 0,
      "outputs": [
        {
          "output_type": "stream",
          "text": [
            "-\n",
            "Input sentence:  I didn't want to go, but I needed to.\n",
            "What it should be:  \tIo non volevo andare, però dovevo.\n",
            "Decoded sentence:  La sua casa è adesso.\n",
            "\n",
            "-\n",
            "Input sentence:  Tom had his wallet stolen while he was in Boston.\n",
            "What it should be:  \tA Tom hanno rubato il portafoglio mentre era a Boston.\n",
            "Decoded sentence:  La vostra scuola.\n",
            "\n",
            "-\n",
            "Input sentence:  Tom is not good enough.\n",
            "What it should be:  \tTom non è abbastanza bravo.\n",
            "Decoded sentence:  La vostra scuola.\n",
            "\n",
            "-\n",
            "Input sentence:  Take my hand.\n",
            "What it should be:  \tPrendete la mia mano.\n",
            "Decoded sentence:  Come sono presto?\n",
            "\n",
            "-\n",
            "Input sentence:  He struck at me with a stick.\n",
            "What it should be:  \tMi colpì con un bastone.\n",
            "Decoded sentence:  Come sembra interessante.\n",
            "\n",
            "-\n",
            "Input sentence:  You look surprised.\n",
            "What it should be:  \tSembrate sorprese.\n",
            "Decoded sentence:  Segui a casa.\n",
            "\n",
            "-\n",
            "Input sentence:  Tom buttered his toast.\n",
            "What it should be:  \tTom ha imburrato il suo toast.\n",
            "Decoded sentence:  La sua casa è adesso.\n",
            "\n",
            "-\n",
            "Input sentence:  I respect everybody's opinion.\n",
            "What it should be:  \tIo rispetto l'opinione di tutti.\n",
            "Decoded sentence:  Io vorrei continuare.\n",
            "\n",
            "-\n",
            "Input sentence:  Let's talk about your career.\n",
            "What it should be:  \tParliamo della sua carriera.\n",
            "Decoded sentence:  Io vorrei continuare.\n",
            "\n",
            "-\n",
            "Input sentence:  Shouldn't you be at home with your mother?\n",
            "What it should be:  \tNon dovresti essere a casa con tua madre?\n",
            "Decoded sentence:  La sua casa è adesso.\n",
            "\n"
          ],
          "name": "stdout"
        }
      ]
    },
    {
      "cell_type": "code",
      "metadata": {
        "id": "-NW5l-IU_lJf",
        "colab_type": "code",
        "colab": {}
      },
      "source": [
        ""
      ],
      "execution_count": 0,
      "outputs": []
    }
  ]
}