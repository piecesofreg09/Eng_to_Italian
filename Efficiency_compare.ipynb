{
  "nbformat": 4,
  "nbformat_minor": 0,
  "metadata": {
    "colab": {
      "name": "Efficiency_compare",
      "version": "0.3.2",
      "provenance": [],
      "include_colab_link": true
    },
    "kernelspec": {
      "name": "python3",
      "display_name": "Python 3"
    },
    "accelerator": "GPU"
  },
  "cells": [
    {
      "cell_type": "markdown",
      "metadata": {
        "id": "view-in-github",
        "colab_type": "text"
      },
      "source": [
        "<a href=\"https://colab.research.google.com/github/piecesofreg09/Eng_to_Italian/blob/master/Efficiency_compare.ipynb\" target=\"_parent\"><img src=\"https://colab.research.google.com/assets/colab-badge.svg\" alt=\"Open In Colab\"/></a>"
      ]
    },
    {
      "cell_type": "code",
      "metadata": {
        "id": "8qN2oCbrfRT-",
        "colab_type": "code",
        "colab": {}
      },
      "source": [
        "from sklearn.preprocessing import OneHotEncoder\n",
        "import numpy as np\n",
        "import pandas as pd"
      ],
      "execution_count": 0,
      "outputs": []
    },
    {
      "cell_type": "code",
      "metadata": {
        "id": "J8HD17SsfjXG",
        "colab_type": "code",
        "colab": {}
      },
      "source": [
        "sentences = [''.join(list(map(chr, [np.random.randint(42, 123) for i in range(200)]))) for j in range(20000)]"
      ],
      "execution_count": 0,
      "outputs": []
    },
    {
      "cell_type": "code",
      "metadata": {
        "id": "Ten94OJEgd-n",
        "colab_type": "code",
        "colab": {
          "base_uri": "https://localhost:8080/",
          "height": 35
        },
        "outputId": "827e50f8-1007-4b4a-fe78-46317b510eaa"
      },
      "source": [
        "sentences[1]\n",
        "vocab = list(set(''.join(sentences)))\n",
        "print('vocab size {0}'.format(len(vocab)) )\n",
        "enc = OneHotEncoder(handle_unknown='ignore', categories=[vocab])\n",
        "enc.fit([['a'], ['b']])\n",
        "\n",
        "char_to_ix = { ch:i for i,ch in enumerate(sorted(vocab)) }"
      ],
      "execution_count": 3,
      "outputs": [
        {
          "output_type": "stream",
          "text": [
            "vocab size 81\n"
          ],
          "name": "stdout"
        }
      ]
    },
    {
      "cell_type": "code",
      "metadata": {
        "id": "UI94hvMmgCS-",
        "colab_type": "code",
        "colab": {
          "base_uri": "https://localhost:8080/",
          "height": 35
        },
        "outputId": "a7ded0cc-239a-4268-e18c-36c528d2479f"
      },
      "source": [
        "%%timeit -n 10\n",
        "\n",
        "tX_1 = np.zeros((len(sentences), 200, 81), \n",
        "                       dtype='float32')\n",
        "for i, sen in enumerate(sentences):\n",
        "    tX_1[i,:,:] = enc.transform([[j] for j in list(sen)]).toarray()"
      ],
      "execution_count": 4,
      "outputs": [
        {
          "output_type": "stream",
          "text": [
            "10 loops, best of 3: 12 s per loop\n"
          ],
          "name": "stdout"
        }
      ]
    },
    {
      "cell_type": "code",
      "metadata": {
        "id": "_5naDEi3hKYk",
        "colab_type": "code",
        "colab": {
          "base_uri": "https://localhost:8080/",
          "height": 35
        },
        "outputId": "3c4eecab-e35b-4b0c-b11e-28d294be798e"
      },
      "source": [
        "%%timeit -n 10\n",
        "\n",
        "X_1 = np.zeros((len(sentences), 200, 81), \n",
        "                       dtype='float32')\n",
        "for i, sen in enumerate(sentences):\n",
        "    for j, charr in enumerate(sen):\n",
        "        X_1[i, j, char_to_ix[charr]] = 1.0"
      ],
      "execution_count": 5,
      "outputs": [
        {
          "output_type": "stream",
          "text": [
            "10 loops, best of 3: 1.67 s per loop\n"
          ],
          "name": "stdout"
        }
      ]
    },
    {
      "cell_type": "code",
      "metadata": {
        "id": "BwjyTw2tiNj7",
        "colab_type": "code",
        "colab": {}
      },
      "source": [
        ""
      ],
      "execution_count": 0,
      "outputs": []
    }
  ]
}